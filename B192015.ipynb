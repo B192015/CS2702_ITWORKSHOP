{
 "cells": [
  {
   "cell_type": "code",
   "execution_count": 49,
   "metadata": {},
   "outputs": [],
   "source": [
    "import pandas as pd"
   ]
  },
  {
   "cell_type": "code",
   "execution_count": 50,
   "metadata": {},
   "outputs": [],
   "source": [
    "df = pd.read_csv(\"/home/cse-lab/Desktop/MELBOURNE_HOUSE_PRICES_LESS.csv\")"
   ]
  },
  {
   "cell_type": "code",
   "execution_count": 51,
   "metadata": {},
   "outputs": [],
   "source": [
    "df = df.dropna()"
   ]
  },
  {
   "cell_type": "code",
   "execution_count": 52,
   "metadata": {},
   "outputs": [
    {
     "data": {
      "text/html": [
       "<div>\n",
       "<style scoped>\n",
       "    .dataframe tbody tr th:only-of-type {\n",
       "        vertical-align: middle;\n",
       "    }\n",
       "\n",
       "    .dataframe tbody tr th {\n",
       "        vertical-align: top;\n",
       "    }\n",
       "\n",
       "    .dataframe thead th {\n",
       "        text-align: right;\n",
       "    }\n",
       "</style>\n",
       "<table border=\"1\" class=\"dataframe\">\n",
       "  <thead>\n",
       "    <tr style=\"text-align: right;\">\n",
       "      <th></th>\n",
       "      <th>Suburb</th>\n",
       "      <th>Address</th>\n",
       "      <th>Rooms</th>\n",
       "      <th>Type</th>\n",
       "      <th>Price</th>\n",
       "      <th>Method</th>\n",
       "      <th>SellerG</th>\n",
       "      <th>Date</th>\n",
       "      <th>Postcode</th>\n",
       "      <th>Regionname</th>\n",
       "      <th>Propertycount</th>\n",
       "      <th>Distance</th>\n",
       "      <th>CouncilArea</th>\n",
       "    </tr>\n",
       "  </thead>\n",
       "  <tbody>\n",
       "    <tr>\n",
       "      <th>0</th>\n",
       "      <td>Abbotsford</td>\n",
       "      <td>49 Lithgow St</td>\n",
       "      <td>3</td>\n",
       "      <td>h</td>\n",
       "      <td>1490000.0</td>\n",
       "      <td>S</td>\n",
       "      <td>Jellis</td>\n",
       "      <td>1/04/2017</td>\n",
       "      <td>3067</td>\n",
       "      <td>Northern Metropolitan</td>\n",
       "      <td>4019</td>\n",
       "      <td>3.0</td>\n",
       "      <td>Yarra City Council</td>\n",
       "    </tr>\n",
       "    <tr>\n",
       "      <th>1</th>\n",
       "      <td>Abbotsford</td>\n",
       "      <td>59A Turner St</td>\n",
       "      <td>3</td>\n",
       "      <td>h</td>\n",
       "      <td>1220000.0</td>\n",
       "      <td>S</td>\n",
       "      <td>Marshall</td>\n",
       "      <td>1/04/2017</td>\n",
       "      <td>3067</td>\n",
       "      <td>Northern Metropolitan</td>\n",
       "      <td>4019</td>\n",
       "      <td>3.0</td>\n",
       "      <td>Yarra City Council</td>\n",
       "    </tr>\n",
       "    <tr>\n",
       "      <th>2</th>\n",
       "      <td>Abbotsford</td>\n",
       "      <td>119B Yarra St</td>\n",
       "      <td>3</td>\n",
       "      <td>h</td>\n",
       "      <td>1420000.0</td>\n",
       "      <td>S</td>\n",
       "      <td>Nelson</td>\n",
       "      <td>1/04/2017</td>\n",
       "      <td>3067</td>\n",
       "      <td>Northern Metropolitan</td>\n",
       "      <td>4019</td>\n",
       "      <td>3.0</td>\n",
       "      <td>Yarra City Council</td>\n",
       "    </tr>\n",
       "    <tr>\n",
       "      <th>3</th>\n",
       "      <td>Aberfeldie</td>\n",
       "      <td>68 Vida St</td>\n",
       "      <td>3</td>\n",
       "      <td>h</td>\n",
       "      <td>1515000.0</td>\n",
       "      <td>S</td>\n",
       "      <td>Barry</td>\n",
       "      <td>1/04/2017</td>\n",
       "      <td>3040</td>\n",
       "      <td>Western Metropolitan</td>\n",
       "      <td>1543</td>\n",
       "      <td>7.5</td>\n",
       "      <td>Moonee Valley City Council</td>\n",
       "    </tr>\n",
       "    <tr>\n",
       "      <th>4</th>\n",
       "      <td>Airport West</td>\n",
       "      <td>92 Clydesdale Rd</td>\n",
       "      <td>2</td>\n",
       "      <td>h</td>\n",
       "      <td>670000.0</td>\n",
       "      <td>S</td>\n",
       "      <td>Nelson</td>\n",
       "      <td>1/04/2017</td>\n",
       "      <td>3042</td>\n",
       "      <td>Western Metropolitan</td>\n",
       "      <td>3464</td>\n",
       "      <td>10.4</td>\n",
       "      <td>Moonee Valley City Council</td>\n",
       "    </tr>\n",
       "  </tbody>\n",
       "</table>\n",
       "</div>"
      ],
      "text/plain": [
       "         Suburb           Address  Rooms Type      Price Method   SellerG  \\\n",
       "0    Abbotsford     49 Lithgow St      3    h  1490000.0      S    Jellis   \n",
       "1    Abbotsford     59A Turner St      3    h  1220000.0      S  Marshall   \n",
       "2    Abbotsford     119B Yarra St      3    h  1420000.0      S    Nelson   \n",
       "3    Aberfeldie        68 Vida St      3    h  1515000.0      S     Barry   \n",
       "4  Airport West  92 Clydesdale Rd      2    h   670000.0      S    Nelson   \n",
       "\n",
       "        Date  Postcode             Regionname  Propertycount  Distance  \\\n",
       "0  1/04/2017      3067  Northern Metropolitan           4019       3.0   \n",
       "1  1/04/2017      3067  Northern Metropolitan           4019       3.0   \n",
       "2  1/04/2017      3067  Northern Metropolitan           4019       3.0   \n",
       "3  1/04/2017      3040   Western Metropolitan           1543       7.5   \n",
       "4  1/04/2017      3042   Western Metropolitan           3464      10.4   \n",
       "\n",
       "                  CouncilArea  \n",
       "0          Yarra City Council  \n",
       "1          Yarra City Council  \n",
       "2          Yarra City Council  \n",
       "3  Moonee Valley City Council  \n",
       "4  Moonee Valley City Council  "
      ]
     },
     "execution_count": 52,
     "metadata": {},
     "output_type": "execute_result"
    }
   ],
   "source": [
    "df.head(5)"
   ]
  },
  {
   "cell_type": "code",
   "execution_count": 53,
   "metadata": {},
   "outputs": [],
   "source": [
    "price=df[\"Price\"]"
   ]
  },
  {
   "cell_type": "code",
   "execution_count": 54,
   "metadata": {},
   "outputs": [
    {
     "name": "stdout",
     "output_type": "stream",
     "text": [
      "0        1490000.0\n",
      "1        1220000.0\n",
      "2        1420000.0\n",
      "3        1515000.0\n",
      "4         670000.0\n",
      "           ...    \n",
      "63016     347700.0\n",
      "63017     808000.0\n",
      "63018     566000.0\n",
      "63019     500000.0\n",
      "63020     545000.0\n",
      "Name: Price, Length: 48433, dtype: float64\n"
     ]
    }
   ],
   "source": [
    "print(price)"
   ]
  },
  {
   "cell_type": "code",
   "execution_count": 55,
   "metadata": {},
   "outputs": [
    {
     "name": "stdout",
     "output_type": "stream",
     "text": [
      "/home/cse-lab\r\n"
     ]
    }
   ],
   "source": [
    "!pwd"
   ]
  },
  {
   "cell_type": "code",
   "execution_count": 56,
   "metadata": {},
   "outputs": [
    {
     "name": "stdout",
     "output_type": "stream",
     "text": [
      " 1.text\t\t dept\t\t     IIIT\t        Public\r\n",
      " 1.txt\t\t Desktop\t     i.txt\t        rakesh.txt\r\n",
      " adi\t\t dir1\t\t     kruthinaina        s.class\r\n",
      " aditi\t\t dir2\t\t     latex\t        s.java\r\n",
      " anaconda3\t dir3\t\t     lc.n\t        snap\r\n",
      " a.out\t\t Documents\t     linear.class       souji1.txt\r\n",
      " a.txt\t\t Downloads\t     linear.java        souji.txt\r\n",
      " b191197\t e1.txt\t\t     ME.java\t        srivani\r\n",
      " b191197.pdf\t ece\t\t     Music\t        Templates\r\n",
      " b191197.tex\t ECE.java\t     my_tensorflow      touch\r\n",
      " B192015.ipynb\t f1.txt\t\t     NEW\t        Untitled1.ipynb\r\n",
      " b.txt\t\t f2.txt\t\t     NEW.log\t       'Untitled Document 1'\r\n",
      " CE.java\t file{1...10.}.txt   Pictures\t        Untitled.ipynb\r\n",
      " cse\t\t file.txt\t     presentation       Videos\r\n",
      " CSE.java\t'gopal jadhav'\t     presentation.log\r\n",
      " c.txt\t\t iiit\t\t     pt\r\n"
     ]
    }
   ],
   "source": [
    "!ls"
   ]
  },
  {
   "cell_type": "code",
   "execution_count": 62,
   "metadata": {},
   "outputs": [
    {
     "name": "stdout",
     "output_type": "stream",
     "text": [
      "              Suburb           Address  Rooms Type      Price Method  \\\n",
      "0         Abbotsford     49 Lithgow St      3    h  1490000.0      S   \n",
      "1         Abbotsford     59A Turner St      3    h  1220000.0      S   \n",
      "2         Abbotsford     119B Yarra St      3    h  1420000.0      S   \n",
      "3         Aberfeldie        68 Vida St      3    h  1515000.0      S   \n",
      "4       Airport West  92 Clydesdale Rd      2    h   670000.0      S   \n",
      "...              ...               ...    ...  ...        ...    ...   \n",
      "63016      Frankston    4/34 Petrie St      2    u   347700.0     SP   \n",
      "63017        Preston     229 Murray Rd      3    h   808000.0      S   \n",
      "63018  Roxburgh Park         3 Carr Pl      3    h   566000.0      S   \n",
      "63019  Roxburgh Park       9 Parker Ct      3    h   500000.0      S   \n",
      "63020  Roxburgh Park    5 Parkinson Wy      3    h   545000.0      S   \n",
      "\n",
      "        SellerG        Date  Postcode                  Regionname  \\\n",
      "0        Jellis   1/04/2017      3067       Northern Metropolitan   \n",
      "1      Marshall   1/04/2017      3067       Northern Metropolitan   \n",
      "2        Nelson   1/04/2017      3067       Northern Metropolitan   \n",
      "3         Barry   1/04/2017      3040        Western Metropolitan   \n",
      "4        Nelson   1/04/2017      3042        Western Metropolitan   \n",
      "...         ...         ...       ...                         ...   \n",
      "63016    Aquire  31/03/2018      3199  South-Eastern Metropolitan   \n",
      "63017        RW  31/03/2018      3072       Northern Metropolitan   \n",
      "63018     Raine  31/03/2018      3064       Northern Metropolitan   \n",
      "63019     Raine  31/03/2018      3064       Northern Metropolitan   \n",
      "63020     Raine  31/03/2018      3064       Northern Metropolitan   \n",
      "\n",
      "       Propertycount  Distance                 CouncilArea  \n",
      "0               4019       3.0          Yarra City Council  \n",
      "1               4019       3.0          Yarra City Council  \n",
      "2               4019       3.0          Yarra City Council  \n",
      "3               1543       7.5  Moonee Valley City Council  \n",
      "4               3464      10.4  Moonee Valley City Council  \n",
      "...              ...       ...                         ...  \n",
      "63016          17055      38.0      Frankston City Council  \n",
      "63017          14577       8.4        Darebin City Council  \n",
      "63018           5833      20.6           Hume City Council  \n",
      "63019           5833      20.6           Hume City Council  \n",
      "63020           5833      20.6           Hume City Council  \n",
      "\n",
      "[48433 rows x 13 columns]\n"
     ]
    }
   ],
   "source": [
    "print(df)"
   ]
  },
  {
   "cell_type": "code",
   "execution_count": 65,
   "metadata": {},
   "outputs": [
    {
     "data": {
      "text/html": [
       "<div>\n",
       "<style scoped>\n",
       "    .dataframe tbody tr th:only-of-type {\n",
       "        vertical-align: middle;\n",
       "    }\n",
       "\n",
       "    .dataframe tbody tr th {\n",
       "        vertical-align: top;\n",
       "    }\n",
       "\n",
       "    .dataframe thead th {\n",
       "        text-align: right;\n",
       "    }\n",
       "</style>\n",
       "<table border=\"1\" class=\"dataframe\">\n",
       "  <thead>\n",
       "    <tr style=\"text-align: right;\">\n",
       "      <th></th>\n",
       "      <th>Suburb</th>\n",
       "      <th>Address</th>\n",
       "      <th>Rooms</th>\n",
       "      <th>Type</th>\n",
       "      <th>Price</th>\n",
       "      <th>Method</th>\n",
       "      <th>SellerG</th>\n",
       "      <th>Date</th>\n",
       "      <th>Postcode</th>\n",
       "      <th>Regionname</th>\n",
       "      <th>Propertycount</th>\n",
       "      <th>Distance</th>\n",
       "      <th>CouncilArea</th>\n",
       "    </tr>\n",
       "  </thead>\n",
       "  <tbody>\n",
       "    <tr>\n",
       "      <th>63016</th>\n",
       "      <td>Frankston</td>\n",
       "      <td>4/34 Petrie St</td>\n",
       "      <td>2</td>\n",
       "      <td>u</td>\n",
       "      <td>347700.0</td>\n",
       "      <td>SP</td>\n",
       "      <td>Aquire</td>\n",
       "      <td>31/03/2018</td>\n",
       "      <td>3199</td>\n",
       "      <td>South-Eastern Metropolitan</td>\n",
       "      <td>17055</td>\n",
       "      <td>38.0</td>\n",
       "      <td>Frankston City Council</td>\n",
       "    </tr>\n",
       "    <tr>\n",
       "      <th>63017</th>\n",
       "      <td>Preston</td>\n",
       "      <td>229 Murray Rd</td>\n",
       "      <td>3</td>\n",
       "      <td>h</td>\n",
       "      <td>808000.0</td>\n",
       "      <td>S</td>\n",
       "      <td>RW</td>\n",
       "      <td>31/03/2018</td>\n",
       "      <td>3072</td>\n",
       "      <td>Northern Metropolitan</td>\n",
       "      <td>14577</td>\n",
       "      <td>8.4</td>\n",
       "      <td>Darebin City Council</td>\n",
       "    </tr>\n",
       "    <tr>\n",
       "      <th>63018</th>\n",
       "      <td>Roxburgh Park</td>\n",
       "      <td>3 Carr Pl</td>\n",
       "      <td>3</td>\n",
       "      <td>h</td>\n",
       "      <td>566000.0</td>\n",
       "      <td>S</td>\n",
       "      <td>Raine</td>\n",
       "      <td>31/03/2018</td>\n",
       "      <td>3064</td>\n",
       "      <td>Northern Metropolitan</td>\n",
       "      <td>5833</td>\n",
       "      <td>20.6</td>\n",
       "      <td>Hume City Council</td>\n",
       "    </tr>\n",
       "    <tr>\n",
       "      <th>63019</th>\n",
       "      <td>Roxburgh Park</td>\n",
       "      <td>9 Parker Ct</td>\n",
       "      <td>3</td>\n",
       "      <td>h</td>\n",
       "      <td>500000.0</td>\n",
       "      <td>S</td>\n",
       "      <td>Raine</td>\n",
       "      <td>31/03/2018</td>\n",
       "      <td>3064</td>\n",
       "      <td>Northern Metropolitan</td>\n",
       "      <td>5833</td>\n",
       "      <td>20.6</td>\n",
       "      <td>Hume City Council</td>\n",
       "    </tr>\n",
       "    <tr>\n",
       "      <th>63020</th>\n",
       "      <td>Roxburgh Park</td>\n",
       "      <td>5 Parkinson Wy</td>\n",
       "      <td>3</td>\n",
       "      <td>h</td>\n",
       "      <td>545000.0</td>\n",
       "      <td>S</td>\n",
       "      <td>Raine</td>\n",
       "      <td>31/03/2018</td>\n",
       "      <td>3064</td>\n",
       "      <td>Northern Metropolitan</td>\n",
       "      <td>5833</td>\n",
       "      <td>20.6</td>\n",
       "      <td>Hume City Council</td>\n",
       "    </tr>\n",
       "  </tbody>\n",
       "</table>\n",
       "</div>"
      ],
      "text/plain": [
       "              Suburb         Address  Rooms Type     Price Method SellerG  \\\n",
       "63016      Frankston  4/34 Petrie St      2    u  347700.0     SP  Aquire   \n",
       "63017        Preston   229 Murray Rd      3    h  808000.0      S      RW   \n",
       "63018  Roxburgh Park       3 Carr Pl      3    h  566000.0      S   Raine   \n",
       "63019  Roxburgh Park     9 Parker Ct      3    h  500000.0      S   Raine   \n",
       "63020  Roxburgh Park  5 Parkinson Wy      3    h  545000.0      S   Raine   \n",
       "\n",
       "             Date  Postcode                  Regionname  Propertycount  \\\n",
       "63016  31/03/2018      3199  South-Eastern Metropolitan          17055   \n",
       "63017  31/03/2018      3072       Northern Metropolitan          14577   \n",
       "63018  31/03/2018      3064       Northern Metropolitan           5833   \n",
       "63019  31/03/2018      3064       Northern Metropolitan           5833   \n",
       "63020  31/03/2018      3064       Northern Metropolitan           5833   \n",
       "\n",
       "       Distance             CouncilArea  \n",
       "63016      38.0  Frankston City Council  \n",
       "63017       8.4    Darebin City Council  \n",
       "63018      20.6       Hume City Council  \n",
       "63019      20.6       Hume City Council  \n",
       "63020      20.6       Hume City Council  "
      ]
     },
     "execution_count": 65,
     "metadata": {},
     "output_type": "execute_result"
    }
   ],
   "source": [
    "df.tail(5)"
   ]
  },
  {
   "cell_type": "code",
   "execution_count": 68,
   "metadata": {},
   "outputs": [],
   "source": [
    "import matplotlib.pyplot as plt"
   ]
  },
  {
   "cell_type": "code",
   "execution_count": 71,
   "metadata": {},
   "outputs": [
    {
     "data": {
      "image/png": "[encoded data removed]",
      "text/plain": [
       "<Figure size 432x288 with 1 Axes>"
      ]
     },
     "metadata": {
      "needs_background": "light"
     },
     "output_type": "display_data"
    }
   ],
   "source": [
    "plt.hist(price)\n",
    "plt.show()"
   ]
  },
  {
   "cell_type": "code",
   "execution_count": 73,
   "metadata": {},
   "outputs": [
    {
     "name": "stdout",
     "output_type": "stream",
     "text": [
      "(48433, 13)\n"
     ]
    }
   ],
   "source": [
    "print(df.shape)"
   ]
  },
  {
   "cell_type": "code",
   "execution_count": 75,
   "metadata": {},
   "outputs": [
    {
     "name": "stdout",
     "output_type": "stream",
     "text": [
      "Index(['Suburb', 'Address', 'Rooms', 'Type', 'Price', 'Method', 'SellerG',\n",
      "       'Date', 'Postcode', 'Regionname', 'Propertycount', 'Distance',\n",
      "       'CouncilArea'],\n",
      "      dtype='object')\n"
     ]
    }
   ],
   "source": [
    "print(df.columns)"
   ]
  },
  {
   "cell_type": "code",
   "execution_count": 100,
   "metadata": {},
   "outputs": [],
   "source": [
    "suburb=df[\"Suburb\"]"
   ]
  },
  {
   "cell_type": "code",
   "execution_count": 103,
   "metadata": {},
   "outputs": [
    {
     "data": {
      "text/plain": [
       "0           Abbotsford\n",
       "1           Abbotsford\n",
       "2           Abbotsford\n",
       "3           Aberfeldie\n",
       "4         Airport West\n",
       "             ...      \n",
       "63016        Frankston\n",
       "63017          Preston\n",
       "63018    Roxburgh Park\n",
       "63019    Roxburgh Park\n",
       "63020    Roxburgh Park\n",
       "Name: Suburb, Length: 48433, dtype: object"
      ]
     },
     "execution_count": 103,
     "metadata": {},
     "output_type": "execute_result"
    }
   ],
   "source": [
    "suburb"
   ]
  },
  {
   "cell_type": "code",
   "execution_count": 109,
   "metadata": {},
   "outputs": [
    {
     "name": "stdout",
     "output_type": "stream",
     "text": [
      "997898.2414882415\n",
      "830000.0\n",
      "0    600000.0\n",
      "dtype: float64\n",
      "593498.9190372757\n"
     ]
    }
   ],
   "source": [
    "print(df['Price'].mean())\n",
    "print(df['Price'].median())\n",
    "print(df['Price'].mode())\n",
    "print(df['Price'].std())"
   ]
  },
  {
   "cell_type": "code",
   "execution_count": 111,
   "metadata": {},
   "outputs": [
    {
     "name": "stdout",
     "output_type": "stream",
     "text": [
      "3.0716660128424835\n",
      "3.0\n",
      "0    3\n",
      "dtype: int64\n",
      "0.944707835993603\n"
     ]
    }
   ],
   "source": [
    "print(df['Rooms'].mean())\n",
    "print(df['Rooms'].median())\n",
    "print(df['Rooms'].mode())\n",
    "print(df['Rooms'].std())"
   ]
  },
  {
   "cell_type": "code",
   "execution_count": 113,
   "metadata": {},
   "outputs": [
    {
     "name": "stdout",
     "output_type": "stream",
     "text": [
      "0    Reservoir\n",
      "dtype: object\n"
     ]
    }
   ],
   "source": [
    "print(df['Suburb'].mode())"
   ]
  },
  {
   "cell_type": "code",
   "execution_count": 119,
   "metadata": {},
   "outputs": [],
   "source": [
    "suburb_count=df['Suburb'].value_counts()"
   ]
  },
  {
   "cell_type": "code",
   "execution_count": 121,
   "metadata": {},
   "outputs": [
    {
     "name": "stdout",
     "output_type": "stream",
     "text": [
      "Reservoir         1067\n",
      "Bentleigh East     696\n",
      "Richmond           642\n",
      "Craigieburn        598\n",
      "Preston            593\n",
      "                  ... \n",
      "Cockatoo             1\n",
      "Kalorama             1\n",
      "Seville              1\n",
      "croydon              1\n",
      "viewbank             1\n",
      "Name: Suburb, Length: 370, dtype: int64\n"
     ]
    }
   ],
   "source": [
    "print(suburb_count)"
   ]
  },
  {
   "cell_type": "code",
   "execution_count": 134,
   "metadata": {},
   "outputs": [],
   "source": [
    "rooms_count = df['Rooms'].value_counts()\n",
    "rooms_count = dict(rooms_count)"
   ]
  },
  {
   "cell_type": "code",
   "execution_count": 136,
   "metadata": {},
   "outputs": [
    {
     "name": "stdout",
     "output_type": "stream",
     "text": [
      "{3: 21812, 4: 11576, 2: 10674, 5: 2350, 1: 1670, 6: 283, 7: 36, 8: 19, 10: 6, 12: 2, 9: 2, 31: 1, 16: 1, 11: 1}\n"
     ]
    }
   ],
   "source": [
    "print(rooms_count)"
   ]
  },
  {
   "cell_type": "code",
   "execution_count": 138,
   "metadata": {},
   "outputs": [
    {
     "name": "stdout",
     "output_type": "stream",
     "text": [
      "dict_keys([3, 4, 2, 5, 1, 6, 7, 8, 10, 12, 9, 31, 16, 11])\n"
     ]
    }
   ],
   "source": [
    "r=rooms_count.keys()\n",
    "print(r)"
   ]
  },
  {
   "cell_type": "code",
   "execution_count": 141,
   "metadata": {},
   "outputs": [
    {
     "name": "stdout",
     "output_type": "stream",
     "text": [
      "dict_values([21812, 11576, 10674, 2350, 1670, 283, 36, 19, 6, 2, 2, 1, 1, 1])\n"
     ]
    }
   ],
   "source": [
    "c=rooms_count.values()\n",
    "print(c)"
   ]
  },
  {
   "cell_type": "code",
   "execution_count": 152,
   "metadata": {},
   "outputs": [
    {
     "data": {
      "image/png": "[encoded data removed]",
      "text/plain": [
       "<Figure size 432x288 with 1 Axes>"
      ]
     },
     "metadata": {
      "needs_background": "light"
     },
     "output_type": "display_data"
    }
   ],
   "source": [
    "plt.bar(x=r,height=c)\n",
    "plt.title(\"Rooms count\")\n",
    "plt.xlabel(\"No. of rooms in a house\")\n",
    "plt.ylabel(\"counts of houses\")\n",
    "plt.show()"
   ]
  },
  {
   "cell_type": "code",
   "execution_count": 147,
   "metadata": {},
   "outputs": [
    {
     "name": "stdout",
     "output_type": "stream",
     "text": [
      "{'h': 34161, 'u': 9292, 't': 4980}\n"
     ]
    }
   ],
   "source": [
    "type_count=df['Type'].value_counts()\n",
    "type_count=dict(type_count)\n",
    "print(type_count)"
   ]
  },
  {
   "cell_type": "code",
   "execution_count": 149,
   "metadata": {},
   "outputs": [
    {
     "name": "stdout",
     "output_type": "stream",
     "text": [
      "dict_keys(['h', 'u', 't'])\n",
      "dict_values([34161, 9292, 4980])\n"
     ]
    }
   ],
   "source": [
    "s=type_count.keys()\n",
    "p=type_count.values()\n",
    "print(s)\n",
    "print(p)"
   ]
  },
  {
   "cell_type": "code",
   "execution_count": 151,
   "metadata": {},
   "outputs": [
    {
     "data": {
      "image/png": "[encoded data removed]",
      "text/plain": [
       "<Figure size 432x288 with 1 Axes>"
      ]
     },
     "metadata": {
      "needs_background": "light"
     },
     "output_type": "display_data"
    }
   ],
   "source": [
    "plt.bar(x=s,height=p)\n",
    "plt.show()"
   ]
  },
  {
   "cell_type": "code",
   "execution_count": 154,
   "metadata": {},
   "outputs": [
    {
     "name": "stdout",
     "output_type": "stream",
     "text": [
      "[ 3  2  4  1  5  7  6  8 11 10  9 12 31 16]\n"
     ]
    }
   ],
   "source": [
    "print(df['Rooms'].unique())"
   ]
  },
  {
   "cell_type": "code",
   "execution_count": 156,
   "metadata": {},
   "outputs": [
    {
     "name": "stdout",
     "output_type": "stream",
     "text": [
      "['Northern Metropolitan' 'Western Metropolitan' 'Southern Metropolitan'\n",
      " 'South-Eastern Metropolitan' 'Eastern Metropolitan' 'Northern Victoria'\n",
      " 'Eastern Victoria' 'Western Victoria']\n"
     ]
    }
   ],
   "source": [
    "print(df['Regionname'].unique())"
   ]
  },
  {
   "cell_type": "code",
   "execution_count": 160,
   "metadata": {},
   "outputs": [],
   "source": [
    "region_count=df['Regionname'].value_counts()\n",
    "region_count=dict(region_count)"
   ]
  },
  {
   "cell_type": "code",
   "execution_count": 163,
   "metadata": {},
   "outputs": [
    {
     "name": "stdout",
     "output_type": "stream",
     "text": [
      "{'Northern Metropolitan': 13598, 'Southern Metropolitan': 12549, 'Western Metropolitan': 9680, 'Eastern Metropolitan': 7585, 'South-Eastern Metropolitan': 4010, 'Northern Victoria': 455, 'Eastern Victoria': 374, 'Western Victoria': 182}\n"
     ]
    }
   ],
   "source": [
    "print(region_count)"
   ]
  },
  {
   "cell_type": "code",
   "execution_count": 168,
   "metadata": {},
   "outputs": [],
   "source": [
    "k=region_count.keys()\n",
    "v=region_count.values()"
   ]
  },
  {
   "cell_type": "code",
   "execution_count": 177,
   "metadata": {},
   "outputs": [
    {
     "data": {
      "image/png": "[encoded data removed]",
      "text/plain": [
       "<Figure size 504x504 with 1 Axes>"
      ]
     },
     "metadata": {},
     "output_type": "display_data"
    }
   ],
   "source": [
    "plt.figure(figsize=(7,7))\n",
    "plt.pie(x=v,labels=k,explode=[0.3,0.0,0.0,0.0,0.0,0.0,0.0,0.0])\n",
    "plt.title(\"houses in different region\")\n",
    "#plt.legend()\n",
    "plt.show()"
   ]
  },
  {
   "cell_type": "code",
   "execution_count": 191,
   "metadata": {},
   "outputs": [],
   "source": [
    "distance = df['Distance']\n",
    "price=df['price']"
   ]
  },
  {
   "cell_type": "code",
   "execution_count": 194,
   "metadata": {},
   "outputs": [
    {
     "data": {
      "image/png": "[encoded data removed]",
      "text/plain": [
       "<Figure size 504x504 with 1 Axes>"
      ]
     },
     "metadata": {
      "needs_background": "light"
     },
     "output_type": "display_data"
    }
   ],
   "source": [
    "plt.figure(figsize=(7,7))\n",
    "plt.scatter(distance,price)\n",
    "plt.xlabel(\"distance\")\n",
    "plt.ylabel(\"price\")\n",
    "plt.show()"
   ]
  },
  {
   "cell_type": "code",
   "execution_count": 197,
   "metadata": {},
   "outputs": [],
   "source": [
    "distance = df['Distance']\n",
    "price=df['Price']"
   ]
  },
  {
   "cell_type": "code",
   "execution_count": 198,
   "metadata": {},
   "outputs": [
    {
     "data": {
      "image/png": "[encoded data removed]",
      "text/plain": [
       "<Figure size 432x288 with 1 Axes>"
      ]
     },
     "metadata": {
      "needs_background": "light"
     },
     "output_type": "display_data"
    }
   ],
   "source": [
    "\n",
    "plt.plot(distance,price)\n",
    "plt.xlabel(\"distance\")\n",
    "plt.ylabel(\"price\")\n",
    "plt.show()"
   ]
  }
 ],
 "metadata": {
  "kernelspec": {
   "display_name": "Python 3",
   "language": "python",
   "name": "python3"
  },
  "language_info": {
   "codemirror_mode": {
    "name": "ipython",
    "version": 3
   },
   "file_extension": ".py",
   "mimetype": "text/x-python",
   "name": "python",
   "nbconvert_exporter": "python",
   "pygments_lexer": "ipython3",
   "version": "3.7.6"
  }
 },
 "nbformat": 4,
 "nbformat_minor": 4
}
